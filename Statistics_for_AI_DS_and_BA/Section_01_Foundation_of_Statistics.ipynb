{
 "cells": [
  {
   "cell_type": "markdown",
   "metadata": {},
   "source": [
    "# Section 1: Foundation of Statistics"
   ]
  },
  {
   "cell_type": "markdown",
   "metadata": {},
   "source": [
    "## 1. Introduction to Statistics\n",
    "\n",
    "'Data' and 'information' are often used interchangeably, but they aren't the same.\n",
    "\n",
    "* <ins>**Data**</ins>: Defined as a collection of individual facts or statistics; Raw form of knowledge.\n",
    "    * <ins>Can come in various forms</ins>: text, observations, figures, numbers, graphs, *etc.*\n",
    "    * <ins>Types of Data</ins>:\n",
    "        * <ins>Quantitative Data</ins>: Deals with numerical data (*eg.* salary, weight, *etc.*).\n",
    "        * <ins>Qualitative Data</ins>: Deals with non-numerical data (*eg.* name, gender, *etc.*).\n",
    "* <ins>**Information**</ins>: Defined as knowledge gained through study, communication, research, or instruction; Result of analyzing and interpreting pieces of data.\n",
    "\n",
    "#### Differences between 'Data' and 'Information'\n",
    "Both are critical elements in business decision-making. By understanding how these components work together, you can move your business towards a more data- and insights-driven culture.\n",
    "\n",
    "| **Data** | **Information** |\n",
    "| :-----: | :-----: |\n",
    "| A collection of facts. | Puts facts into context. |\n",
    "| Raw and unorganized. | Organized. |\n",
    "| Data points are individual and sometimes unrelated. | Maps out data in order to provide a big-picture view of how it all fits together. |\n",
    "| Meaningless on its own. | After analysis and interpretation, data becomes meaningful information. |\n",
    "| Doesn't depend on information. | Dependent on data. |\n",
    "| Typically comes in the form of graphs, numbers, figures, or statistics. | Typically presented through words, language, thoughts, and ideas. |\n",
    "| Insufficient for decision-making. | Sufficient for decision-making. |\n",
    "\n",
    "* <ins>**Statistical analysis**</ins>: (From ['Britannica'](https://www.britannica.com/science/statistics)): The science of collecting, analyzing, presenting, and interpreting data."
   ]
  }
 ],
 "metadata": {
  "language_info": {
   "name": "python"
  }
 },
 "nbformat": 4,
 "nbformat_minor": 2
}
