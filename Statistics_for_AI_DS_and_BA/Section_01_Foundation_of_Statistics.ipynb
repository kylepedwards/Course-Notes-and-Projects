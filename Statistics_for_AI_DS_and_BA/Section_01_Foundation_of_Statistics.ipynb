{
 "cells": [
  {
   "cell_type": "markdown",
   "metadata": {},
   "source": [
    "# Section 1: Foundation of Statistics"
   ]
  },
  {
   "cell_type": "markdown",
   "metadata": {},
   "source": [
    "## 1. Introduction to Statistics\n",
    "\n",
    "'Data' and 'information' are often used interchangeably, but they aren't the same.\n",
    "\n",
    "* <ins>**Data**</ins>: Defined as a collection of individual facts or statistics; Raw form of knowledge.\n",
    "    * <ins>Can come in various forms</ins>: text, observations, figures, numbers, graphs, *etc.*\n",
    "    * <ins>Types of Data</ins>:\n",
    "        * <ins>Quantitative Data</ins>: Deals with numerical data (*eg.* salary, weight, *etc.*).\n",
    "        * <ins>Qualitative Data</ins>: Deals with non-numerical data (*eg.* name, gender, *etc.*).\n",
    "* <ins>**Information**</ins>: Defined as knowledge gained through study, communication, research, or instruction; Result of analyzing and interpreting pieces of data.\n",
    "\n",
    "#### Differences between 'Data' and 'Information'\n",
    "Both are critical elements in business decision-making. By understanding how these components work together, you can move your business towards a more data- and insights-driven culture.\n",
    "\n",
    "| **Data** | **Information** |\n",
    "| :-----: | :-----: |\n",
    "| A collection of facts. | Puts facts into context. |\n",
    "| Raw and unorganized. | Organized. |\n",
    "| Data points are individual and sometimes unrelated. | Maps out data in order to provide a big-picture view of how it all fits together. |\n",
    "| Meaningless on its own. | After analysis and interpretation, data becomes meaningful information. |\n",
    "| Doesn't depend on information. | Dependent on data. |\n",
    "| Typically comes in the form of graphs, numbers, figures, or statistics. | Typically presented through words, language, thoughts, and ideas. |\n",
    "| Insufficient for decision-making. | Sufficient for decision-making. |\n",
    "\n",
    "* <ins>**Statistical analysis**</ins>: (From ['Britannica'](https://www.britannica.com/science/statistics)): The science of collecting, analyzing, presenting, and interpreting data."
   ]
  },
  {
   "cell_type": "markdown",
   "metadata": {},
   "source": [
    "## 2. Types of Statistical Analysis - Descriptive Statistics \n",
    "There are two branches in Statistics:\n",
    "1. <ins>Descriptive Statistics</ins>: A branch of Statistics that helps us describe/summarize data.\n",
    "2. <ins>Inferential Statistics</ins>: A branch of Statistics that helps us make inferences and predictions about a **population** based on its **sample**.\n",
    "\n",
    "A few types of <ins>descriptive statistics</ins>:\n",
    "* <ins>Measures of Central Tendency</ins>: A type of descriptive statistics that focuses on the average or middle values of datasets.\n",
    "    * Describes the center position of a distribution for a dataset.\n",
    "    * A person analyzes the frequency of each data point in the distribution and describes it by using the <ins>mean</ins>, <ins>median</ins>, or <ins>mode</ins>, which measures the most common patterns of the analyzed dataset.\n",
    "* <ins>Measures of Variability</ins>: A type of descriptive statistics that focuses on the dispersion of data.\n",
    "    * <ins>Measures of Variability</ins> (or <ins>Measures of Spread</ins>) aid in analyzing how dispersed the distribution is for a dataset.\n",
    "    * Includes <ins>standard deviation</ins>, <ins>variance</ins>, <ins>minimum</ins> and <ins>maximum variables</ins>, <ins>kurtosis</ins>, and <ins>skewness</ins>\n",
    "    * <ins>Example</ins>:\n",
    "        * <ins>Dataset</ins>: 5, 19, 24, 62, 91, 100\n",
    "        * The range of that dataset is **95** - calculated by subtracting the lowest number (5) in the dataset from the highest (100).\n",
    "\n",
    "Can we use **descriptive statistics** to make inferences or predictions? **No**. That job is for **inferential statistics**. "
   ]
  }
 ],
 "metadata": {
  "language_info": {
   "name": "python"
  }
 },
 "nbformat": 4,
 "nbformat_minor": 2
}
