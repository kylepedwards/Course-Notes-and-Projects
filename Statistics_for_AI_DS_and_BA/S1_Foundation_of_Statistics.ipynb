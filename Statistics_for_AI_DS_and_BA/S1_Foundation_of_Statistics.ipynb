{
 "cells": [
  {
   "cell_type": "markdown",
   "metadata": {},
   "source": [
    "## 1. Introduction to Statistics\n",
    "\n",
    "'Data' and 'information' are often used interchangeably, but there are subtle differences between these components and their purpose.\n",
    "\n",
    "* <ins>**Data**</ins>: Defined as a collection of individual facts or statistics; Raw form of knowledge.\n",
    "    * <ins>Can come in various forms</ins>: text, observations, figures, numbers, graphs, *etc.*\n",
    "    * <ins>Ex.</ins>: individual prices, weights, addresses, ages, names, temperatures, dates, distances, *etc.*\n",
    "    * <ins>Types of Data</ins>:\n",
    "        * <ins>**Quantitative Data**</ins>: Deals with numerical data (*eg.* salary, weight, *etc.*)\n",
    "        * <ins>**Qualitative Data**</ins>: Deals with non-numerical data (*eg.* name, gender, *etc.*)\n",
    "    * [“Data Is” Or “Data Are”: Which Is Correct?](https://www.thesaurus.com/e/grammar/data-is-or-data-are/)\n",
    "* <ins>**Information**</ins>: Defined as knowledge gained through study, communication, research, or instruction; Result of analyzing and interpreting pieces of data.\n",
    "\n",
    "#### **Differences between Data & Information**\n",
    "Both are critical elements in business decision-making. By understanding how these components work together, you can move your business toward a more data- and insights-driven culture.\n",
    "\n",
    "| **Data** | **Information** |\n",
    "| :-----: | :-----: |\n",
    "| A collection of facts. | Puts facts into context. |\n",
    "| Raw and unorganized. | Organized. |\n",
    "| Data points are individual and sometimes unrelated. | Maps out data to provide a big-picture view of how it all fits together. |\n",
    "| Meaningless on its own. | When it's analyzed and interpreted, it becomes meaningful information. |\n",
    "| Doesn't depend on information. | Dependent on data. |\n",
    "| Typically comes in the form of graphs, numbers, figures, or statistics. | Typically presented through words, language, thoughts, and ideas. |\n",
    "| Insufficient for decision-making. | Sufficient for decision-making. |\n",
    "\n",
    "* **Statistics**: (from [Merriam-Webster Dictionary](https://www.merriam-webster.com/dictionary/statistics)) \"A branch of mathematics dealing with the collection, analysis, interpretation, and presentation of masses of numerical data.\""
   ]
  },
  {
   "cell_type": "markdown",
   "metadata": {},
   "source": [
    "## 2. Types of Statistical Analysis \n"
   ]
  }
 ],
 "metadata": {
  "language_info": {
   "name": "python"
  }
 },
 "nbformat": 4,
 "nbformat_minor": 2
}
