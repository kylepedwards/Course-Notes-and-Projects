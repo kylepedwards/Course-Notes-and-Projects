{
 "cells": [
  {
   "cell_type": "markdown",
   "metadata": {},
   "source": [
    "## Part 1: Linear Algebra \n",
    "\n",
    "#### Section 1: Introduction To Linear Algebra\n",
    "A. <ins>Introduction</ins>:  \n",
    "\n",
    "* **Linear algebra** is a branch of mathematics that focueses on the study of **vectors**, **vector spaces** (aka **linear spaces**), **linear transformations**, and **systems of linear equations**.\n",
    "    * It provides a framework for understanding the properties and operations of these mathematical objects, which can be represented by using **matrices** and **vectors**.\n"
   ]
  },
  {
   "cell_type": "markdown",
   "metadata": {},
   "source": [
    "#### Section 2: Introduction To Functions And Transformation"
   ]
  },
  {
   "cell_type": "markdown",
   "metadata": {},
   "source": [
    "#### Section 3: Inverse Functions Or Transformation"
   ]
  },
  {
   "cell_type": "markdown",
   "metadata": {},
   "source": [
    "#### Section 4: Eigen Vectors And Eigen Values"
   ]
  },
  {
   "cell_type": "markdown",
   "metadata": {},
   "source": [
    "#### Section 5: Equation Of a Line, Plane, Hyperplane"
   ]
  }
 ],
 "metadata": {
  "language_info": {
   "name": "python"
  }
 },
 "nbformat": 4,
 "nbformat_minor": 2
}
